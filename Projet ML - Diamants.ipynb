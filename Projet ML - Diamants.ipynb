{
 "cells": [
  {
   "cell_type": "markdown",
   "metadata": {},
   "source": [
    "# Etienne Noroy - Les diamants\n",
    "\n",
    "Le sujet de mon projet de Machine Learning concernera les diamants.\n",
    "\n",
    "Comme on le sait les diamants et autres pierres précieuses sont des matériaux naturels sortant de gisements qui sont ensuite vendus à des bijoutiers / joailliers afin de les taillers et d'en faire des pièces d'exceptions.\n",
    "\n",
    "Bien sur, certaines caractéristiques du diamant font que celui ci sera plus ou moins couteux à l'achat (tailles, couleurs, etc...).\n",
    "\n",
    "C'est dans ce but que j'aimerai mettre en place un algorithme qui permettra de prédire le prix d'un diamant grâce à certaines de ses caractéristiques d'où ma problématique \"Peut-on prévoire avec précision le prix d'un diamant à l'aide de ses caractéristiques intrasèques?\"."
   ]
  },
  {
   "cell_type": "code",
   "execution_count": 1,
   "metadata": {},
   "outputs": [
    {
     "name": "stdout",
     "output_type": "stream",
     "text": [
      "<class 'pandas.core.frame.DataFrame'>\n",
      "RangeIndex: 53940 entries, 0 to 53939\n",
      "Data columns (total 10 columns):\n",
      " #   Column   Non-Null Count  Dtype  \n",
      "---  ------   --------------  -----  \n",
      " 0   carat    53940 non-null  float64\n",
      " 1   cut      53940 non-null  object \n",
      " 2   color    53940 non-null  object \n",
      " 3   clarity  53940 non-null  object \n",
      " 4   depth    53940 non-null  float64\n",
      " 5   table    53940 non-null  float64\n",
      " 6   price    53940 non-null  int64  \n",
      " 7   x        53940 non-null  float64\n",
      " 8   y        53940 non-null  float64\n",
      " 9   z        53940 non-null  float64\n",
      "dtypes: float64(6), int64(1), object(3)\n",
      "memory usage: 4.1+ MB\n"
     ]
    }
   ],
   "source": [
    "import pandas as pd \n",
    "import numpy as np \n",
    "import seaborn as sns\n",
    "import matplotlib.pyplot as plt\n",
    "%matplotlib inline\n",
    "\n",
    "da = pd.read_csv('c:/temp/data/diamonds.csv');\n",
    "da.info()"
   ]
  },
  {
   "cell_type": "markdown",
   "metadata": {},
   "source": [
    "On peut voir que chaque diamants à 10 caractéristiques distincts :\n",
    "- carat : le poids du diamant (1 carat = 0.20g)\n",
    "- cut : la qualité de la coupe classé de Ideal (meilleure) à Fair (pire). \n",
    "- color : la couleur du diamant D (meilleure) à J (pire)\n",
    "- clarity : la clareté du diamant IF (meilleure), VVS1, VVS2, VS1, VS2, SI1, SI2, I1 (pire)\n",
    "    - IF : aucune inclusion observée avec une loupe x10. Le diamant est donc \"pur à la loupe\".\n",
    "    - VVS1 / VVS2 : minuscules inclusions à peine visibles avec une loupe x10.\n",
    "    - VS1 / VS2 : très petites inclusions difficilement visibles avec une loupe x10. \n",
    "    - SI1 / SI2 : petites inclusions aisément visibles avec un grossissement de 10 fois.\n",
    "    - I1 : inclusions pratiquement visibles à l'œil nu.\n",
    "- depth : le pourcentage de profondeur total\n",
    "- table : la largeur du sommet du losange par rapport au point le plus large.\n",
    "- price : le prix en dollars américains\n",
    "- x : la longueur en mm\n",
    "- y : la largeur en mm \n",
    "- z : la profondeur en mm\n",
    "\n",
    "On peut également voir que toutes les colonnes sont pleines et qu'elles ne contiennent aucune valeur null."
   ]
  },
  {
   "cell_type": "code",
   "execution_count": 2,
   "metadata": {
    "scrolled": true
   },
   "outputs": [
    {
     "data": {
      "text/plain": [
       "Text(0.5, 1.0, 'Nombre de données par couleur de diamant')"
      ]
     },
     "execution_count": 2,
     "metadata": {},
     "output_type": "execute_result"
    },
    {
     "data": {
      "image/png": "[encoded data removed]",
      "text/plain": [
       "<Figure size 432x288 with 1 Axes>"
      ]
     },
     "metadata": {
      "needs_background": "light"
     },
     "output_type": "display_data"
    }
   ],
   "source": [
    "#Schéma des couleurs classé de la meilleure à la pire couleur (D -> J).\n",
    "color = sns.countplot(y=\"color\", data=da, order=['D','E','F','G','H','I','J'])\n",
    "color.set_title('Nombre de données par couleur de diamant')"
   ]
  },
  {
   "cell_type": "code",
   "execution_count": 3,
   "metadata": {},
   "outputs": [
    {
     "data": {
      "text/plain": [
       "False    94.794216\n",
       "True      5.205784\n",
       "Name: color, dtype: float64"
      ]
     },
     "execution_count": 3,
     "metadata": {},
     "output_type": "execute_result"
    }
   ],
   "source": [
    "#Vérification du pourcentage de la classe de couleur J par rapport au total des données.\n",
    "(da['color'] == 'J').value_counts(True)*100"
   ]
  },
  {
   "cell_type": "markdown",
   "metadata": {},
   "source": [
    "On remarque avec le schéma qu'on a une bonne distribution des différentes couleurs de diamants. Certes la classe de couleur J est moins représentée mais elle compte malgré tout plus de 5% des donnés total, je garderai donc cette classe de couleur pour la suite."
   ]
  },
  {
   "cell_type": "code",
   "execution_count": 4,
   "metadata": {},
   "outputs": [
    {
     "data": {
      "text/plain": [
       "Text(0.5, 1.0, 'Nombre de données par rapport à la classe de clarté')"
      ]
     },
     "execution_count": 4,
     "metadata": {},
     "output_type": "execute_result"
    },
    {
     "data": {
      "image/png": "[encoded data removed]",
      "text/plain": [
       "<Figure size 432x288 with 1 Axes>"
      ]
     },
     "metadata": {
      "needs_background": "light"
     },
     "output_type": "display_data"
    }
   ],
   "source": [
    "#Schéma des clartés classé de la meilleure à la pire clareté (IF -> I1).\n",
    "clarity = sns.countplot(y=\"clarity\", data=da, order=['IF', 'VVS1', 'VVS2', 'VS1', 'VS2', 'SI1', 'SI2', 'I1'])\n",
    "clarity.set_title('Nombre de données par rapport à la classe de clarté')"
   ]
  },
  {
   "cell_type": "code",
   "execution_count": 5,
   "metadata": {},
   "outputs": [
    {
     "data": {
      "text/plain": [
       "False    96.681498\n",
       "True      3.318502\n",
       "Name: clarity, dtype: float64"
      ]
     },
     "execution_count": 5,
     "metadata": {},
     "output_type": "execute_result"
    }
   ],
   "source": [
    "##Vérification du pourcentage de la classe de clarté IF par rapport au total des données.\n",
    "(da['clarity'] == 'IF').value_counts(True)*100"
   ]
  },
  {
   "cell_type": "code",
   "execution_count": 6,
   "metadata": {},
   "outputs": [
    {
     "data": {
      "text/plain": [
       "False    98.626251\n",
       "True      1.373749\n",
       "Name: clarity, dtype: float64"
      ]
     },
     "execution_count": 6,
     "metadata": {},
     "output_type": "execute_result"
    }
   ],
   "source": [
    "##Vérification du pourcentage de la classe de clarté IF par rapport au total des données.\n",
    "(da['clarity'] == 'I1').value_counts(True)*100"
   ]
  },
  {
   "cell_type": "markdown",
   "metadata": {},
   "source": [
    "On peut voir sur le schéma ci-dessus que les données sont moins bien répartis par rapport à leur clarté. On a une très faible population (1.3%) pour une clarté I1 qui est considéré comme un diamant de pureté médiocre.\n",
    "On a également une faible population (3.3%) pour une clarté IF qui est considéré comme un diamant pure.\n",
    "Malgré la faible population de ces deux classes de clarté, je penses qu'il serait intéressant de les garder car ils correspondent à la pureté intrinsèque des diamants et donc on un gros impact sur le prix de vente.\n",
    "Ici nous avons d'un côté la clarté IF qui correspond à un diamant pure qui n'a aucune imperfection et qui, je pense, aura un impact sur le prix que nous cherchons.\n",
    "De l'autre côté nous avons la clarté I1 qui correspond à un dimant de pureté médiocre, et qui la aussi aura un impact significatif sur le prix par rapport à une clarté SI2 qui correspond malgré tout à une qualité bien supérieur."
   ]
  },
  {
   "cell_type": "code",
   "execution_count": 7,
   "metadata": {},
   "outputs": [
    {
     "data": {
      "text/plain": [
       "<AxesSubplot:xlabel='count', ylabel='cut'>"
      ]
     },
     "execution_count": 7,
     "metadata": {},
     "output_type": "execute_result"
    },
    {
     "data": {
      "image/png": "[encoded data removed]",
      "text/plain": [
       "<Figure size 432x288 with 1 Axes>"
      ]
     },
     "metadata": {
      "needs_background": "light"
     },
     "output_type": "display_data"
    }
   ],
   "source": [
    "#Schéma des coupes classé de la meilleure à la pire.\n",
    "sns.countplot(y=\"cut\", data=da,order=['Ideal', 'Premium', 'Very Good', 'Good', 'Fair'])"
   ]
  },
  {
   "cell_type": "markdown",
   "metadata": {},
   "source": [
    "On peut voir sur ce schéma que l'on a dans l'ensemble plus de bonne coupes de nos diamants que des coupes moyenne."
   ]
  },
  {
   "cell_type": "code",
   "execution_count": 8,
   "metadata": {},
   "outputs": [
    {
     "name": "stdout",
     "output_type": "stream",
     "text": [
      "Minimal price:  326 $\n",
      "Maximal price:  18823 $\n"
     ]
    },
    {
     "data": {
      "image/png": "[encoded data removed]",
      "text/plain": [
       "<Figure size 360x360 with 1 Axes>"
      ]
     },
     "metadata": {
      "needs_background": "light"
     },
     "output_type": "display_data"
    }
   ],
   "source": [
    "#Graphique de la distribution des prix des pierres précieuses.\n",
    "sns.displot(x='price', data=da)\n",
    "print(\"Minimal price: \", da['price'].min(), '$')\n",
    "print(\"Maximal price: \", da['price'].max(), '$')"
   ]
  },
  {
   "cell_type": "markdown",
   "metadata": {},
   "source": [
    "On voit avec ce schéma que la distribution des prix des pierres est très étendu. On a un prix qui va de 326 dollars à 18823 dollars on remarque que malgré une population plus dense autour de 500 dollars on a quand même un population assez constante d'environ 2000 diamants entre 10000 dollars et 18823 dollars."
   ]
  },
  {
   "cell_type": "code",
   "execution_count": 9,
   "metadata": {},
   "outputs": [
    {
     "data": {
      "text/plain": [
       "<AxesSubplot:xlabel='price'>"
      ]
     },
     "execution_count": 9,
     "metadata": {},
     "output_type": "execute_result"
    },
    {
     "data": {
      "image/png": "[encoded data removed]",
      "text/plain": [
       "<Figure size 432x288 with 1 Axes>"
      ]
     },
     "metadata": {
      "needs_background": "light"
     },
     "output_type": "display_data"
    }
   ],
   "source": [
    "#Boîte à moustache par rapport au prix.\n",
    "sns.boxplot(x='price', data=da)"
   ]
  },
  {
   "cell_type": "markdown",
   "metadata": {},
   "source": [
    "Comme on a pu le voir avec le graphique de distribution du prix on a malgré tout une grosse densité de valeur determiné ici comme valeur abérrante du au fait d'une population de prix très étendu."
   ]
  },
  {
   "cell_type": "code",
   "execution_count": 10,
   "metadata": {},
   "outputs": [
    {
     "data": {
      "text/plain": [
       "<AxesSubplot:xlabel='carat'>"
      ]
     },
     "execution_count": 10,
     "metadata": {},
     "output_type": "execute_result"
    },
    {
     "data": {
      "image/png": "[encoded data removed]",
      "text/plain": [
       "<Figure size 432x288 with 1 Axes>"
      ]
     },
     "metadata": {
      "needs_background": "light"
     },
     "output_type": "display_data"
    }
   ],
   "source": [
    "#Boîte à moustache par rapport au carat.\n",
    "sns.boxplot(x='carat', data=da)"
   ]
  },
  {
   "cell_type": "markdown",
   "metadata": {},
   "source": [
    "On peut voir avec ce schéma qu'il y a aussi au niveau des valeurs de carat un grand nombre de valeurs abérrantes. Le poids du diamant semble une caractéristique assez importante quand on parle du prix d'un diamant puisqu'elle semble suivre un peu la densité de valeur abérrante du prix."
   ]
  },
  {
   "cell_type": "code",
   "execution_count": 28,
   "metadata": {},
   "outputs": [
    {
     "data": {
      "text/plain": [
       "Text(0, 0.5, 'Prix $')"
      ]
     },
     "execution_count": 28,
     "metadata": {},
     "output_type": "execute_result"
    },
    {
     "data": {
      "image/png": "[encoded data removed]",
      "text/plain": [
       "<Figure size 432x288 with 1 Axes>"
      ]
     },
     "metadata": {
      "needs_background": "light"
     },
     "output_type": "display_data"
    }
   ],
   "source": [
    "#Graphique du prix en fonction du nombre de carat.\n",
    "plt.scatter(da.carat, da.price)\n",
    "plt.title(\"Prix en fonction du nombre de carat.\")\n",
    "plt.xlabel(\"Carats\")\n",
    "plt.ylabel(\"Prix $\")"
   ]
  },
  {
   "cell_type": "code",
   "execution_count": 11,
   "metadata": {},
   "outputs": [
    {
     "data": {
      "text/plain": [
       "carat      0\n",
       "cut        0\n",
       "color      0\n",
       "clarity    0\n",
       "x          0\n",
       "y          0\n",
       "z          0\n",
       "dtype: int64"
      ]
     },
     "execution_count": 11,
     "metadata": {},
     "output_type": "execute_result"
    }
   ],
   "source": [
    "#Définition des variables à utilisés.\n",
    "y = da['price']\n",
    "data = da.drop(['price', 'depth', 'table'], axis=1)\n",
    "X = data\n",
    "X.isnull().sum()"
   ]
  },
  {
   "cell_type": "markdown",
   "metadata": {},
   "source": [
    "Après avoir analysé les différentes caractéristiques j'ai décidé de garder toutes les caractéristiques à part la table et la profondeur qui sont des valeurs résultants de calcul d'autres caractéristiques et je ne penses pas qu'elles apporteront un plus à mon modèle. Et bien sur concernant ma prédiction je prends le prix comme y.\n",
    "On peut voir que je n'ai pas de donnée null dans mes features et donc que je ne serais pas embêté par cela."
   ]
  },
  {
   "cell_type": "markdown",
   "metadata": {},
   "source": [
    "X.info()"
   ]
  },
  {
   "cell_type": "code",
   "execution_count": 12,
   "metadata": {},
   "outputs": [
    {
     "data": {
      "text/html": [
       "<div>\n",
       "<style scoped>\n",
       "    .dataframe tbody tr th:only-of-type {\n",
       "        vertical-align: middle;\n",
       "    }\n",
       "\n",
       "    .dataframe tbody tr th {\n",
       "        vertical-align: top;\n",
       "    }\n",
       "\n",
       "    .dataframe thead th {\n",
       "        text-align: right;\n",
       "    }\n",
       "</style>\n",
       "<table border=\"1\" class=\"dataframe\">\n",
       "  <thead>\n",
       "    <tr style=\"text-align: right;\">\n",
       "      <th></th>\n",
       "      <th>carat</th>\n",
       "      <th>cut</th>\n",
       "      <th>color</th>\n",
       "      <th>clarity</th>\n",
       "      <th>x</th>\n",
       "      <th>y</th>\n",
       "      <th>z</th>\n",
       "    </tr>\n",
       "  </thead>\n",
       "  <tbody>\n",
       "    <tr>\n",
       "      <th>0</th>\n",
       "      <td>0.23</td>\n",
       "      <td>2</td>\n",
       "      <td>1</td>\n",
       "      <td>3</td>\n",
       "      <td>3.95</td>\n",
       "      <td>3.98</td>\n",
       "      <td>2.43</td>\n",
       "    </tr>\n",
       "    <tr>\n",
       "      <th>1</th>\n",
       "      <td>0.21</td>\n",
       "      <td>3</td>\n",
       "      <td>1</td>\n",
       "      <td>2</td>\n",
       "      <td>3.89</td>\n",
       "      <td>3.84</td>\n",
       "      <td>2.31</td>\n",
       "    </tr>\n",
       "    <tr>\n",
       "      <th>2</th>\n",
       "      <td>0.23</td>\n",
       "      <td>1</td>\n",
       "      <td>1</td>\n",
       "      <td>4</td>\n",
       "      <td>4.05</td>\n",
       "      <td>4.07</td>\n",
       "      <td>2.31</td>\n",
       "    </tr>\n",
       "    <tr>\n",
       "      <th>3</th>\n",
       "      <td>0.29</td>\n",
       "      <td>3</td>\n",
       "      <td>5</td>\n",
       "      <td>5</td>\n",
       "      <td>4.20</td>\n",
       "      <td>4.23</td>\n",
       "      <td>2.63</td>\n",
       "    </tr>\n",
       "    <tr>\n",
       "      <th>4</th>\n",
       "      <td>0.31</td>\n",
       "      <td>1</td>\n",
       "      <td>6</td>\n",
       "      <td>3</td>\n",
       "      <td>4.34</td>\n",
       "      <td>4.35</td>\n",
       "      <td>2.75</td>\n",
       "    </tr>\n",
       "  </tbody>\n",
       "</table>\n",
       "</div>"
      ],
      "text/plain": [
       "   carat  cut  color  clarity     x     y     z\n",
       "0   0.23    2      1        3  3.95  3.98  2.43\n",
       "1   0.21    3      1        2  3.89  3.84  2.31\n",
       "2   0.23    1      1        4  4.05  4.07  2.31\n",
       "3   0.29    3      5        5  4.20  4.23  2.63\n",
       "4   0.31    1      6        3  4.34  4.35  2.75"
      ]
     },
     "execution_count": 12,
     "metadata": {},
     "output_type": "execute_result"
    }
   ],
   "source": [
    "#Transformation de mes variables catégories en int (coupe, couleur et clarté).\n",
    "from sklearn import preprocessing\n",
    "lb = preprocessing.LabelEncoder()\n",
    "X['cut'] = lb.fit_transform(X['cut'])\n",
    "X['color'] = lb.fit_transform(X['color'])\n",
    "X['clarity'] = lb.fit_transform(X['clarity'])\n",
    "X.head()"
   ]
  },
  {
   "cell_type": "markdown",
   "metadata": {},
   "source": [
    "J'ai transformé mes données catégorisés afin de pouvoir les utilisés en tant que feature."
   ]
  },
  {
   "cell_type": "code",
   "execution_count": 13,
   "metadata": {},
   "outputs": [],
   "source": [
    "#Mise en place du split des données pour mettre ne place la partie training et la partie testing.\n",
    "from sklearn.model_selection import train_test_split\n",
    "\n",
    "X_train, X_test, y_train, y_test = train_test_split(X, y, test_size=0.4, random_state=42)"
   ]
  },
  {
   "cell_type": "markdown",
   "metadata": {},
   "source": [
    "Je mets en place l'éclatement des données afin de créer des données pour le testing et d'autres pour le training. Ici 40% des données seront pour le testing et 60% pour le training.\n",
    "Au niveau de mon modèle, comme le prix que je veux prédire est une variable quantitative, je dois utilisé un modèle de régression linéaire. \n",
    "J'ai donc opté pour deux modèles :\n",
    "- Dans un premier temps je vais faire un regression linéaire multiple simple afin de voir si mon modèle pourrait correspondre à cela.\n",
    "- Dans un second temps, j'utiliserais un autre modèle suivant les résultats de la régression linéaire."
   ]
  },
  {
   "cell_type": "code",
   "execution_count": 45,
   "metadata": {},
   "outputs": [
    {
     "name": "stdout",
     "output_type": "stream",
     "text": [
      "Coefficients beta_j : \n",
      " [10504.54502943    74.80969189  -268.44011493   299.68106605\n",
      "  -865.34973082    70.10797319  -286.85998046]\n"
     ]
    }
   ],
   "source": [
    "#Création de l'objet linear regression.\n",
    "#Entrainement du modèle en utilisants les données d'entrainement.\n",
    "from sklearn import linear_model\n",
    "from sklearn.metrics import r2_score, mean_squared_error\n",
    "\n",
    "lr = linear_model.LinearRegression().fit(X_train, y_train)\n",
    "coef = lr.coef_\n",
    "print('Coefficients beta_j : \\n', coef)\n",
    "columns = ['carat', 'cut', 'color', 'clarity', 'x', 'y', 'z']"
   ]
  },
  {
   "cell_type": "code",
   "execution_count": 46,
   "metadata": {},
   "outputs": [
    {
     "data": {
      "text/plain": [
       "<AxesSubplot:>"
      ]
     },
     "execution_count": 46,
     "metadata": {},
     "output_type": "execute_result"
    },
    {
     "data": {
      "image/png": "[encoded data removed]",
      "text/plain": [
       "<Figure size 1152x648 with 1 Axes>"
      ]
     },
     "metadata": {
      "needs_background": "light"
     },
     "output_type": "display_data"
    }
   ],
   "source": [
    "plt.figure(figsize=(16, 9))\n",
    "coef = pd.Series(coef, columns)\n",
    "sns.lineplot(x=coef.index, y=coef)"
   ]
  },
  {
   "cell_type": "markdown",
   "metadata": {},
   "source": [
    "On peut voir sur le graphique ci-dessus que la feature qui semble la plus importante en ce qui concerne le prix d'un diamant est son poids (carat) ce qui semble à première vu assez logique."
   ]
  },
  {
   "cell_type": "code",
   "execution_count": 52,
   "metadata": {},
   "outputs": [],
   "source": [
    "#Prediction du y avec les données de tests.\n",
    "Y_pred = regr.predict(X_test)"
   ]
  },
  {
   "cell_type": "code",
   "execution_count": 54,
   "metadata": {},
   "outputs": [
    {
     "name": "stdout",
     "output_type": "stream",
     "text": [
      "Score de variance : 0.882\n"
     ]
    }
   ],
   "source": [
    "print ('Score de variance : %.3f' % r2_score(y_test, Y_pred))"
   ]
  },
  {
   "cell_type": "markdown",
   "metadata": {},
   "source": [
    "On peut donc voir que notre modèle à un score de variance de 88,2 %. Ce qui est en soit un score plutôt correcte pour un modèle aussi simple.\n",
    "Dans ce cas on peut voir que le coefficient de la feature carat à un gros impacte sur le modèle, il est donc judicieux d'essayer d'utiliser un modèle Lasso puisque il y a une grosse corrélation entre le prix et le poids."
   ]
  },
  {
   "cell_type": "code",
   "execution_count": 108,
   "metadata": {},
   "outputs": [
    {
     "name": "stdout",
     "output_type": "stream",
     "text": [
      "[8127.02133236   38.47877415 -227.73395452  282.28204219   -0.\n",
      "   -0.           -0.        ]\n"
     ]
    }
   ],
   "source": [
    "#Mise en place du modèle Lasso avec une constante alpha égale à 0.2.\n",
    "#Entrainement du modèle en utilisants les données d'entrainement.\n",
    "lasso = linear_model.Lasso(alpha=0.2, normalize=True)\n",
    "lasso.fit(X_train, y_train)\n",
    "coef = lasso.coef_\n",
    "print(coef)"
   ]
  },
  {
   "cell_type": "markdown",
   "metadata": {},
   "source": [
    "On voit ici qu'avec une constante alpha à 0.2, on obtient toujours un coefficient beaucoup plus élevé pour la feature carat que pour toutes les autres features."
   ]
  },
  {
   "cell_type": "code",
   "execution_count": 109,
   "metadata": {},
   "outputs": [
    {
     "data": {
      "text/plain": [
       "<AxesSubplot:>"
      ]
     },
     "execution_count": 109,
     "metadata": {},
     "output_type": "execute_result"
    },
    {
     "data": {
      "image/png": "[encoded data removed]",
      "text/plain": [
       "<Figure size 1152x648 with 1 Axes>"
      ]
     },
     "metadata": {
      "needs_background": "light"
     },
     "output_type": "display_data"
    }
   ],
   "source": [
    "#Graphique des différents coefficients des features impactants le prix d'un diamant.\n",
    "plt.figure(figsize=(16, 9))\n",
    "coef = pd.Series(coef, columns)\n",
    "sns.lineplot(x=coef.index, y=coef)"
   ]
  },
  {
   "cell_type": "markdown",
   "metadata": {},
   "source": [
    "Avec cette correction on voit que la clarté et la couleur ont un très léger impacte sur le prix du diamant contrairement au carat."
   ]
  },
  {
   "cell_type": "code",
   "execution_count": 110,
   "metadata": {},
   "outputs": [
    {
     "name": "stdout",
     "output_type": "stream",
     "text": [
      "Score de variance : 0.881\n"
     ]
    }
   ],
   "source": [
    "print ('Score de variance : %.3f' % r2_score(y_test, lasso.predict(X_test)))"
   ]
  },
  {
   "cell_type": "markdown",
   "metadata": {},
   "source": [
    "On a un score de 88.1% ce qui est sensiblement égale à ce que nous avons eu avec une simple régression linéaire, ce qui veut dire que le modèle n'est pas forcément plus optimisé pour cette étude."
   ]
  },
  {
   "cell_type": "code",
   "execution_count": 111,
   "metadata": {},
   "outputs": [
    {
     "name": "stdout",
     "output_type": "stream",
     "text": [
      "[6909.66205793    0.           -0.            7.39257421    0.\n",
      "    0.            0.        ]\n"
     ]
    }
   ],
   "source": [
    "#Mise en place du modèle Lasso avec une constante alpha égale à 2.\n",
    "#Entrainement du modèle en utilisants les données d'entrainement.\n",
    "lasso1 = linear_model.Lasso(alpha=2, normalize=True)\n",
    "lasso1.fit(X_train, y_train)\n",
    "coef1 = lasso1.coef_\n",
    "print(coef1)"
   ]
  },
  {
   "cell_type": "markdown",
   "metadata": {},
   "source": [
    "On voit maintenant qu'avec une constance multiplié par 10 que toutes les features sont à 0 ce qui veut dire deux choses, que seul la caractéristique carat à vraiment un impacte sur le prix et que les features n'ont pas de corrélations entre elles."
   ]
  },
  {
   "cell_type": "code",
   "execution_count": 112,
   "metadata": {},
   "outputs": [
    {
     "data": {
      "text/plain": [
       "<AxesSubplot:>"
      ]
     },
     "execution_count": 112,
     "metadata": {},
     "output_type": "execute_result"
    },
    {
     "data": {
      "image/png": "[encoded data removed]",
      "text/plain": [
       "<Figure size 1152x648 with 1 Axes>"
      ]
     },
     "metadata": {
      "needs_background": "light"
     },
     "output_type": "display_data"
    }
   ],
   "source": [
    "#Graphique des différents coefficients des features impactants le prix d'un diamant.\n",
    "plt.figure(figsize=(16, 9))\n",
    "sns.lineplot(x=coef.index, y=coef1)"
   ]
  },
  {
   "cell_type": "code",
   "execution_count": 113,
   "metadata": {},
   "outputs": [
    {
     "name": "stdout",
     "output_type": "stream",
     "text": [
      "Score de variance : 0.845\n"
     ]
    }
   ],
   "source": [
    "print ('Score de variance : %.3f' % r2_score(y_test, lasso1.predict(X_test)))"
   ]
  },
  {
   "cell_type": "markdown",
   "metadata": {},
   "source": [
    "On a maintenant une variance de 84.5% avec alpha = 2, ce qui veut dire que plus on diminue l'impacte de la caractéristique carat plus on s'éloigne de la bonne prédiction."
   ]
  },
  {
   "cell_type": "markdown",
   "metadata": {},
   "source": [
    "****************************"
   ]
  },
  {
   "cell_type": "markdown",
   "metadata": {},
   "source": [
    "## Conclusion\n",
    "\n",
    "Ainsi grâce à ces deux modèles de régression, on a pu remarquer que la caractéristique la plus importante dans la prédiction du prix d'un diamant était son poids (carat). On a eu une variance de 0.88 en ce qui concerne la prédiction du prix avec les deux modèles ce qui reste malgré tout correct.\n",
    "\n",
    "Il serait interessant de vérifier avec un autre autre modèle de regression comme par exemple le RidgeRegression pour voir si on arrive à meix correspondre à notre courbe et ainsi avoir une meilleur prédiction. Il serait peut être aussi bien de regarder avec un modèle de type SGD Regressor parce que, d'après les différents estimateurs les mieux adaptés de scikit-learn, il serait préférable de l'utiliser si on a en dessous de 100k données."
   ]
  },
  {
   "cell_type": "code",
   "execution_count": null,
   "metadata": {},
   "outputs": [],
   "source": []
  }
 ],
 "metadata": {
  "kernelspec": {
   "display_name": "Python 3",
   "language": "python",
   "name": "python3"
  },
  "language_info": {
   "codemirror_mode": {
    "name": "ipython",
    "version": 3
   },
   "file_extension": ".py",
   "mimetype": "text/x-python",
   "name": "python",
   "nbconvert_exporter": "python",
   "pygments_lexer": "ipython3",
   "version": "3.7.8rc1"
  }
 },
 "nbformat": 4,
 "nbformat_minor": 4
}
